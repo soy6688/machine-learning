{
 "cells": [
  {
   "cell_type": "code",
   "execution_count": 2,
   "metadata": {},
   "outputs": [],
   "source": [
    "import pandas as pd\n",
    "import numpy as np\n",
    "from sklearn.preprocessing import LabelEncoder\n",
    "import gc"
   ]
  },
  {
   "cell_type": "code",
   "execution_count": null,
   "metadata": {},
   "outputs": [],
   "source": [
    "# csv파일을 parquet파일로 변환하기 위한 함수\n",
    "\n",
    "def csv_to_parquet(csv_path, save_name):\n",
    "    df = pd.read_csv(csv_path)\n",
    "    df.to_parquet('./' + save_name + '.parquet')\n",
    "    del df\n",
    "    gc.collect()\n",
    "    print(save_name, 'Done.')"
   ]
  },
  {
   "cell_type": "code",
   "execution_count": null,
   "metadata": {},
   "outputs": [],
   "source": [
    "# 파일 형식 변경\n",
    "\n",
    "csv_to_parquet('./train.csv', 'train')\n",
    "csv_to_parquet('./test.csv', 'test')"
   ]
  },
  {
   "cell_type": "code",
   "execution_count": null,
   "metadata": {},
   "outputs": [],
   "source": [
    "# 파일 로드\n",
    "# test파일은 target이 아에 없으므로 train에서 나눠서 사용\n",
    "\n",
    "train = pd.read_parquet('./train.parquet')\n",
    "# test = pd.read_parquet('./test.parquet')"
   ]
  },
  {
   "cell_type": "code",
   "execution_count": null,
   "metadata": {},
   "outputs": [],
   "source": [
    "# 데이터 전처리\n",
    "# [요일, 시작 지점의 회전제한 유무, 도착지점의 회전제한 유무]\n",
    "str_col = ['day_of_week','start_turn_restricted','end_turn_restricted']\n",
    "for i in str_col:\n",
    "    le = LabelEncoder()\n",
    "    le=le.fit(train[i])\n",
    "    train[i]=le.transform(train[i])\n",
    "    print(i, le.classes_)"
   ]
  },
  {
   "cell_type": "code",
   "execution_count": null,
   "metadata": {},
   "outputs": [],
   "source": [
    "# 주말인지 아닌지 판별을 위한 컬럼 추가\n",
    "train['weekend']=0\n",
    "train.loc[train['day_of_week'] == 4,'weekend'] = 1\n",
    "train.loc[train['day_of_week'] == 5,'weekend'] = 1"
   ]
  },
  {
   "cell_type": "code",
   "execution_count": null,
   "metadata": {},
   "outputs": [],
   "source": [
    "# 월 컬럼 추가\n",
    "train['month']=train['base_date']\n",
    "train['month'] = train['month'].apply(lambda x: int(str(x)[4:6]))"
   ]
  },
  {
   "cell_type": "code",
   "execution_count": null,
   "metadata": {},
   "outputs": [],
   "source": [
    "train['weather']=0\n",
    "\n",
    "\n",
    "#계절별 분류 month를\n",
    "train.loc[train['month']==12,'weather']=1\n",
    "train.loc[train['month']==1,'weather']=1\n",
    "train.loc[train['month']==2,'weather']=1\n",
    "\n",
    "train.loc[train['month']==3,'weather']=2\n",
    "train.loc[train['month']==4,'weather']=2\n",
    "train.loc[train['month']==5,'weather']=2\n",
    "\n",
    "train.loc[train['month']==6,'weather']=3\n",
    "train.loc[train['month']==7,'weather']=3\n",
    "train.loc[train['month']==8,'weather']=3\n",
    "\n",
    "train.loc[train['month']==9,'weather']=4\n",
    "train.loc[train['month']==10,'weather']=4\n",
    "train.loc[train['month']==11,'weather']=4\n",
    "\n",
    "# 3~5 봄(2) 6~8 여름(3) 9~11 가을(4) 12~2 겨울(1)  법적 계절 분류"
   ]
  },
  {
   "cell_type": "code",
   "execution_count": null,
   "metadata": {},
   "outputs": [],
   "source": [
    "# 4시간씩 잘라봄 (base_hour) 기준"
   ]
  },
  {
   "cell_type": "code",
   "execution_count": null,
   "metadata": {},
   "outputs": [],
   "source": [
    "train['base_time']=0"
   ]
  },
  {
   "cell_type": "code",
   "execution_count": null,
   "metadata": {},
   "outputs": [],
   "source": [
    "train.loc[(train['base_hour']  >= 0)&(train['base_hour'] <= 4), 'base_time']=0\n",
    "\n",
    "train.loc[(train['base_hour']  >= 5)&(train['base_hour'] <= 9), 'base_time']=1\n",
    "\n",
    "train.loc[(train['base_hour']  >= 10)&(train['base_hour'] <= 14), 'base_time']=2\n",
    "\n",
    "train.loc[(train['base_hour']  >= 15)&(train['base_hour'] <= 19), 'base_time']=3\n",
    "\n",
    "train.loc[train['base_hour']  >= 20,'base_time']=4"
   ]
  },
  {
   "cell_type": "code",
   "execution_count": null,
   "metadata": {},
   "outputs": [],
   "source": [
    "# 정리한 데이터프레임 저장\n",
    "\n",
    "train.to_parquet('./train_pwm.parquet')\n",
    "print('Done.')"
   ]
  },
  {
   "cell_type": "markdown",
   "metadata": {},
   "source": [
    "---"
   ]
  },
  {
   "cell_type": "markdown",
   "metadata": {},
   "source": [
    "# 위도 경도 삭제 (2번째 시도)"
   ]
  },
  {
   "cell_type": "code",
   "execution_count": null,
   "metadata": {},
   "outputs": [],
   "source": [
    "# train2  deeopcopy 및 위도 경도 삭제 "
   ]
  },
  {
   "cell_type": "code",
   "execution_count": null,
   "metadata": {},
   "outputs": [],
   "source": [
    "import copy"
   ]
  },
  {
   "cell_type": "code",
   "execution_count": null,
   "metadata": {},
   "outputs": [],
   "source": [
    "train2=copy.deepcopy(train)"
   ]
  },
  {
   "cell_type": "code",
   "execution_count": null,
   "metadata": {},
   "outputs": [],
   "source": [
    "train2=train2.drop(['end_latitude','end_longitude','start_latitude','start_longitude'],axis=1)"
   ]
  },
  {
   "cell_type": "code",
   "execution_count": null,
   "metadata": {},
   "outputs": [],
   "source": [
    "# 정리한 데이터프레임 저장\n",
    "\n",
    "train2.to_parquet('./train2_pwm.parquet')\n",
    "print('Done.')"
   ]
  },
  {
   "cell_type": "code",
   "execution_count": null,
   "metadata": {},
   "outputs": [],
   "source": [
    "train2 = pd.read_parquet('./train2_pwm.parquet')"
   ]
  },
  {
   "cell_type": "code",
   "execution_count": null,
   "metadata": {},
   "outputs": [],
   "source": []
  },
  {
   "cell_type": "code",
   "execution_count": null,
   "metadata": {},
   "outputs": [],
   "source": []
  },
  {
   "cell_type": "code",
   "execution_count": null,
   "metadata": {},
   "outputs": [],
   "source": []
  },
  {
   "cell_type": "code",
   "execution_count": null,
   "metadata": {},
   "outputs": [],
   "source": []
  },
  {
   "cell_type": "code",
   "execution_count": null,
   "metadata": {},
   "outputs": [],
   "source": []
  },
  {
   "cell_type": "code",
   "execution_count": null,
   "metadata": {},
   "outputs": [],
   "source": []
  },
  {
   "cell_type": "code",
   "execution_count": null,
   "metadata": {},
   "outputs": [],
   "source": []
  },
  {
   "cell_type": "code",
   "execution_count": null,
   "metadata": {},
   "outputs": [],
   "source": []
  },
  {
   "cell_type": "code",
   "execution_count": null,
   "metadata": {},
   "outputs": [],
   "source": []
  },
  {
   "cell_type": "code",
   "execution_count": null,
   "metadata": {},
   "outputs": [],
   "source": []
  },
  {
   "cell_type": "code",
   "execution_count": null,
   "metadata": {},
   "outputs": [],
   "source": []
  },
  {
   "cell_type": "code",
   "execution_count": null,
   "metadata": {},
   "outputs": [],
   "source": []
  }
 ],
 "metadata": {
  "interpreter": {
   "hash": "04ac131e6d54cabd38ce0aa757fc9ec3b740783634967f4d721ee072aca12caf"
  },
  "kernelspec": {
   "display_name": "Python 3.8.13 ('ds_study')",
   "language": "python",
   "name": "python3"
  },
  "language_info": {
   "codemirror_mode": {
    "name": "ipython",
    "version": 3
   },
   "file_extension": ".py",
   "mimetype": "text/x-python",
   "name": "python",
   "nbconvert_exporter": "python",
   "pygments_lexer": "ipython3",
   "version": "3.8.13"
  },
  "orig_nbformat": 4
 },
 "nbformat": 4,
 "nbformat_minor": 2
}
